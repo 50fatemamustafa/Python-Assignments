{
 "cells": [
  {
   "cell_type": "code",
   "execution_count": 6,
   "metadata": {},
   "outputs": [
    {
     "name": "stdout",
     "output_type": "stream",
     "text": [
      "Car Details : \n",
      "My Car Name is  HONDA\n",
      "My Car Model is  2019\n",
      "My Car Manufacture in  JAPAN\n",
      "My Car Engine Number is  12345\n",
      "My Car Color is  Blue\n"
     ]
    }
   ],
   "source": [
    "class Car:\n",
    "    def __init__(self,name,model,manufacture,engineno):\n",
    "        self.name=name\n",
    "        self.model=model\n",
    "        self.manufacture=manufacture\n",
    "        self.engineno=engineno\n",
    "    def setColor(self, color ):  \n",
    "            self.color = color     \n",
    "    def getColor(self):      \n",
    "            return self.color   \n",
    "Car1 = Car('HONDA',2019,'JAPAN',12345)\n",
    "Car1.setColor('Blue')\n",
    "print('Car Details : ')\n",
    "print('My Car Name is ',Car1.name)\n",
    "print('My Car Model is ',Car1.model)\n",
    "print('My Car Manufacture in ',Car1.manufacture)\n",
    "print('My Car Engine Number is ',Car1.engineno)\n",
    "print('My Car Color is ',Car1.getColor())"
   ]
  },
  {
   "cell_type": "code",
   "execution_count": null,
   "metadata": {},
   "outputs": [],
   "source": []
  },
  {
   "cell_type": "code",
   "execution_count": null,
   "metadata": {},
   "outputs": [],
   "source": []
  },
  {
   "cell_type": "code",
   "execution_count": null,
   "metadata": {},
   "outputs": [],
   "source": []
  },
  {
   "cell_type": "code",
   "execution_count": null,
   "metadata": {},
   "outputs": [],
   "source": []
  },
  {
   "cell_type": "code",
   "execution_count": null,
   "metadata": {},
   "outputs": [],
   "source": []
  }
 ],
 "metadata": {
  "kernelspec": {
   "display_name": "Python 3",
   "language": "python",
   "name": "python3"
  },
  "language_info": {
   "codemirror_mode": {
    "name": "ipython",
    "version": 3
   },
   "file_extension": ".py",
   "mimetype": "text/x-python",
   "name": "python",
   "nbconvert_exporter": "python",
   "pygments_lexer": "ipython3",
   "version": "3.7.4"
  }
 },
 "nbformat": 4,
 "nbformat_minor": 2
}
