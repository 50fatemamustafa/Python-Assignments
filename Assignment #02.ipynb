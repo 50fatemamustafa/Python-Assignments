{
 "cells": [
  {
   "cell_type": "code",
   "execution_count": 10,
   "metadata": {},
   "outputs": [
    {
     "name": "stdout",
     "output_type": "stream",
     "text": [
      "Enter English marks : 140\n",
      "Enter Urdu marks : 150\n",
      "Enter Maths marks : 160\n",
      "Enter Science marks : 120\n",
      "Enter S.ST marks : 130\n",
      "Total Marks =  700.0\n",
      "ERROR: Check Your Marks Again(Total should not exceed 500)\n",
      "Percentage :  140.0\n",
      "Percentage has some ERROR\n",
      "No Grading Done\n"
     ]
    }
   ],
   "source": [
    "eng = float(input(\"Enter English marks : \"))\n",
    "urdu = float(input(\"Enter Urdu marks : \"))\n",
    "maths = float(input(\"Enter Maths marks : \"))\n",
    "sci = float(input(\"Enter Science marks : \"))\n",
    "sst = float(input(\"Enter S.ST marks : \"))\n",
    "\n",
    "total = eng + urdu + maths + sci + sst\n",
    "print(\"Total Marks = \", total)\n",
    "\n",
    "if total > 500 :\n",
    "    print(\"ERROR: Check Your Marks Again(Total should not exceed 500)\")\n",
    "\n",
    "per = (total / 500)*100\n",
    "print(\"Percentage : \", per)\n",
    "\n",
    "if per > 100 : \n",
    "    print (\"Percentage has some ERROR\")\n",
    "    print(\"No Grading Done\")\n",
    "    \n",
    "elif per >=80 and per <= 100 :\n",
    "    print(\"Grade : A+\")\n",
    "    \n",
    "elif per >= 70 and per <= 79 :\n",
    "    print (\"Grade :  A\")\n",
    "\n",
    "elif per >= 60 and per <= 69:\n",
    "    print(\"Grade :  B\")\n",
    "    \n",
    "elif per >= 50 and per <=59:\n",
    "    print(\"Grade :  C\")\n",
    "    \n",
    "elif per >= 40 and per <= 49:\n",
    "    print(\"Grade :  D\")\n",
    "    \n",
    "elif per >= 33 and per <= 39:\n",
    "    print(\"Grade :  E\")\n",
    "    \n",
    "else:\n",
    "    print(\"Grade :  Fail\")"
   ]
  },
  {
   "cell_type": "code",
   "execution_count": 13,
   "metadata": {},
   "outputs": [
    {
     "name": "stdout",
     "output_type": "stream",
     "text": [
      "Enter your number : 22\n",
      "Your Given number is : EVEN\n"
     ]
    }
   ],
   "source": [
    "# checking user input number is even or odd\n",
    "num = int(input(\"Enter your number : \"))\n",
    "s = num % 2 \n",
    "if s > 0:\n",
    "    print(\"Your Given number is : ODD\")\n",
    "    \n",
    "elif s == 0:\n",
    "    print(\"Your Given number is : EVEN\")"
   ]
  },
  {
   "cell_type": "code",
   "execution_count": 14,
   "metadata": {},
   "outputs": [
    {
     "name": "stdout",
     "output_type": "stream",
     "text": [
      "The length of the list is :  6\n"
     ]
    }
   ],
   "source": [
    "arr = [ \"a\", \"b\", \"c\", \"d\", \"e\", \"f\"]\n",
    "print(\"The length of the list is : \", len(arr))"
   ]
  },
  {
   "cell_type": "code",
   "execution_count": 15,
   "metadata": {},
   "outputs": [
    {
     "name": "stdout",
     "output_type": "stream",
     "text": [
      "The sum of the list is :  75\n"
     ]
    }
   ],
   "source": [
    "arr = [10 , 11 ,12, 13 ,14 ,15]\n",
    "sum = arr[0]+ arr[1]+ arr[2] +arr[3]+ arr[4]+arr[5]\n",
    "print(\"The sum of the list is : \", sum)"
   ]
  },
  {
   "cell_type": "code",
   "execution_count": 16,
   "metadata": {},
   "outputs": [
    {
     "name": "stdout",
     "output_type": "stream",
     "text": [
      "The largest number in the list is :  15\n"
     ]
    }
   ],
   "source": [
    "arr = [10 , 11 ,12, 13 ,14 ,15]\n",
    "print(\"The largest number in the list is : \", max(arr))"
   ]
  },
  {
   "cell_type": "code",
   "execution_count": 21,
   "metadata": {},
   "outputs": [
    {
     "name": "stdout",
     "output_type": "stream",
     "text": [
      "Numbers less than 5 are :\n",
      "1\n",
      "1\n",
      "2\n",
      "3\n"
     ]
    }
   ],
   "source": [
    "#Priting numbers lessthan 5\n",
    "print(\"Numbers less than 5 are :\")\n",
    "arr = [1, 1, 2, 3, 5, 8, 13, 21, 34, 55, 89]\n",
    "for i in arr:\n",
    "    if i < 5:\n",
    "        print(i)"
   ]
  },
  {
   "cell_type": "code",
   "execution_count": null,
   "metadata": {},
   "outputs": [],
   "source": []
  }
 ],
 "metadata": {
  "kernelspec": {
   "display_name": "Python 3",
   "language": "python",
   "name": "python3"
  },
  "language_info": {
   "codemirror_mode": {
    "name": "ipython",
    "version": 3
   },
   "file_extension": ".py",
   "mimetype": "text/x-python",
   "name": "python",
   "nbconvert_exporter": "python",
   "pygments_lexer": "ipython3",
   "version": "3.7.4"
  }
 },
 "nbformat": 4,
 "nbformat_minor": 2
}
