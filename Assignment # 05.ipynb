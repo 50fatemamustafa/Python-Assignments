{
 "cells": [
  {
   "cell_type": "code",
   "execution_count": 1,
   "metadata": {},
   "outputs": [
    {
     "data": {
      "text/plain": [
       "120"
      ]
     },
     "execution_count": 1,
     "metadata": {},
     "output_type": "execute_result"
    }
   ],
   "source": [
    "def factorial(num):\n",
    "    num = int(num)\n",
    "    if num == 0:\n",
    "        return 1\n",
    "    else :\n",
    "        return num * factorial(num -1)\n",
    "factorial(5)"
   ]
  },
  {
   "cell_type": "code",
   "execution_count": 2,
   "metadata": {},
   "outputs": [
    {
     "name": "stdout",
     "output_type": "stream",
     "text": [
      "Original strings : Hi My Name is Fatema Mustafa\n",
      "No. of Upper Case Letters :  5\n",
      "No. of lower case letters :  18\n"
     ]
    }
   ],
   "source": [
    "def case_letters(test):\n",
    "    d = {\"UPPER CASE\" : 0 , \"lower case\" : 0}\n",
    "    for c in test:\n",
    "        if c.isupper():\n",
    "            d[\"UPPER CASE\"] += 1\n",
    "        elif c.islower():\n",
    "            d[\"lower case\"] += 1\n",
    "        else:\n",
    "            pass\n",
    "    print(\"Original strings : \" + test)\n",
    "    print(\"No. of Upper Case Letters : \" , d[\"UPPER CASE\"] )\n",
    "    print(\"No. of lower case letters : \" , d[\"lower case\"])\n",
    "case_letters('Hi My Name is Fatema Mustafa')"
   ]
  },
  {
   "cell_type": "code",
   "execution_count": 3,
   "metadata": {},
   "outputs": [
    {
     "name": "stdout",
     "output_type": "stream",
     "text": [
      "[2, 4, 6, 8]\n"
     ]
    }
   ],
   "source": [
    "def is_even_num(l):\n",
    "    enum = []\n",
    "    for n in l:\n",
    "        if n % 2 == 0:\n",
    "            enum.append(n)\n",
    "    return enum\n",
    "print(is_even_num([1, 2, 3, 4, 5, 6, 7, 8, 9]))"
   ]
  },
  {
   "cell_type": "code",
   "execution_count": 13,
   "metadata": {},
   "outputs": [
    {
     "name": "stdout",
     "output_type": "stream",
     "text": [
      "False\n"
     ]
    }
   ],
   "source": [
    "def Palindrome(s):\n",
    "    left = 0\n",
    "    right = len(s) - 1\n",
    " \n",
    "    while right >= left:\n",
    "        if not s[left] == s[right]:\n",
    "            return False\n",
    "        left += 1\n",
    "        right -= 1\n",
    "    return True\n",
    "print(Palindrome('King')) "
   ]
  },
  {
   "cell_type": "code",
   "execution_count": 16,
   "metadata": {},
   "outputs": [
    {
     "name": "stdout",
     "output_type": "stream",
     "text": [
      "True\n"
     ]
    }
   ],
   "source": [
    "def test(n):\n",
    "    if (n==1):\n",
    "        return False\n",
    "    elif (n==2):\n",
    "        return True;\n",
    "    else:\n",
    "        for x in range(2,n):\n",
    "            if(n % x==0):\n",
    "                return False\n",
    "        return True             \n",
    "print(test(19))"
   ]
  },
  {
   "cell_type": "code",
   "execution_count": 26,
   "metadata": {},
   "outputs": [
    {
     "name": "stdout",
     "output_type": "stream",
     "text": [
      "The grocery items list: \n",
      "oil\n",
      "rice\n",
      "maggi\n",
      "sphagheti\n",
      "chips\n"
     ]
    }
   ],
   "source": [
    "def customer(*items):\n",
    "    for item in items:\n",
    "        print(item)\n",
    "print(\"The grocery items list: \")\n",
    "customer(\"oil\", \"rice\" ,\"maggi\" , \"sphagheti\" ,\"chips\")"
   ]
  },
  {
   "cell_type": "code",
   "execution_count": null,
   "metadata": {},
   "outputs": [],
   "source": []
  }
 ],
 "metadata": {
  "kernelspec": {
   "display_name": "Python 3",
   "language": "python",
   "name": "python3"
  },
  "language_info": {
   "codemirror_mode": {
    "name": "ipython",
    "version": 3
   },
   "file_extension": ".py",
   "mimetype": "text/x-python",
   "name": "python",
   "nbconvert_exporter": "python",
   "pygments_lexer": "ipython3",
   "version": "3.7.4"
  }
 },
 "nbformat": 4,
 "nbformat_minor": 2
}
