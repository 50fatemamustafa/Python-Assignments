{
 "cells": [
  {
   "cell_type": "code",
   "execution_count": 24,
   "metadata": {
    "scrolled": true
   },
   "outputs": [
    {
     "name": "stdout",
     "output_type": "stream",
     "text": [
      "original Information: \n",
      "{'first_name': 'fatima', 'last_name': 'mustafa', 'age': 21, 'city': 'karachi'}\n",
      "Update Information\n",
      "{'first_name': 'fatima', 'last_name': 'mustafa', 'age': 21, 'city': 'karachi', 'qualification': 'inter'}\n",
      "New Person Information:\n",
      "{'first_name': 'fatima', 'last_name': 'mustafa', 'age': 21, 'city': 'karachi', 'qualification': 'high academic level'}\n",
      "After deletion the information left is: \n",
      "{'first_name': 'fatima', 'last_name': 'mustafa', 'age': 21, 'city': 'karachi'}\n"
     ]
    }
   ],
   "source": [
    "#person's information\n",
    "person = {\n",
    "    'first_name': 'fatima',\n",
    "    'last_name': 'mustafa',\n",
    "    'age': 21,\n",
    "    'city': 'karachi',\n",
    "    }\n",
    "\n",
    "print(\"original Information: \")\n",
    "print(person)\n",
    "person.update( {'qualification' : \"inter\"} )\n",
    "print(\"Update Information\")\n",
    "print(person)\n",
    "person.update( {'qualification' : \"high academic level\"} )\n",
    "#updating key value of qualification to high academic level\n",
    "print(\"New Person Information:\")\n",
    "print(person)\n",
    "#confused the question was not clear the you was asking to update key or value\n",
    "del person[\"qualification\"]\n",
    "#del person[\"high academic level\"]\n",
    "print(\"After deletion the information left is: \")\n",
    "print(person)"
   ]
  },
  {
   "cell_type": "code",
   "execution_count": 41,
   "metadata": {},
   "outputs": [
    {
     "name": "stdout",
     "output_type": "stream",
     "text": [
      "{'Karachi': {'country': 'Pakistan', 'population': '14.91 million', 'fact': 'It is the Sixth largest city in the world by city population.'}, 'paris': {'country': 'France', 'population': '67.2 million', 'fact': 'It was originally a Roman City'}, 'london': {'country': 'England', 'population': '14.91 million', 'fact': 'More than 300 languages are spoken in London'}}\n"
     ]
    }
   ],
   "source": [
    "cities = {\n",
    "    \"Karachi\" : {\n",
    "        'country' : 'Pakistan',\n",
    "        'population' : '14.91 million',\n",
    "        'fact' : 'It is the Sixth largest city in the world by city population.'\n",
    "        \n",
    "            },\n",
    "    \"paris\" : {\n",
    "        'country' : 'France',\n",
    "        'population' : '67.2 million',\n",
    "        'fact' : 'It was originally a Roman City'\n",
    "            },\n",
    "    \"london\" : {\n",
    "        'country' : 'England',\n",
    "        'population' : '14.91 million',\n",
    "        'fact' : 'More than 300 languages are spoken in London' \n",
    "    }\n",
    "}\n",
    "print(cities)"
   ]
  },
  {
   "cell_type": "code",
   "execution_count": 4,
   "metadata": {
    "scrolled": true
   },
   "outputs": [
    {
     "name": "stdout",
     "output_type": "stream",
     "text": [
      "Enter Your Age:  15\n",
      "The ticket is $15 \n"
     ]
    }
   ],
   "source": [
    "#printing movie ticket prices\n",
    "Age = int(input(\"Enter Your Age:  \"))\n",
    "\n",
    "if Age <= 3: \n",
    "    print(\"The ticket is free\")\n",
    "elif Age > 3 and Age <= 12:\n",
    "    print(\"The ticket is $10 \")\n",
    "elif Age > 12:\n",
    "    print(\"The ticket is $15 \")\n"
   ]
  },
  {
   "cell_type": "code",
   "execution_count": 74,
   "metadata": {},
   "outputs": [
    {
     "name": "stdout",
     "output_type": "stream",
     "text": [
      "Alice in Wonderland is one of my favorite books.\n"
     ]
    }
   ],
   "source": [
    "# function\n",
    "def fav_book(title):\n",
    "    print(title + \" is one of my favorite books.\")\n",
    "fav_book('Alice in Wonderland')"
   ]
  },
  {
   "cell_type": "code",
   "execution_count": 84,
   "metadata": {},
   "outputs": [
    {
     "name": "stdout",
     "output_type": "stream",
     "text": [
      "Enter a number between 1 and 30 : 78\n",
      "Your number is High\n",
      "Enter a number between 1 and 30 : 56\n",
      "Your number is High\n",
      "Enter a number between 1 and 30 : 14\n",
      "Your number is Low\n",
      "The number was 23 number\n"
     ]
    }
   ],
   "source": [
    "import random\n",
    "hidden = random.randint(1,30)\n",
    "num_of_guesses = 0;\n",
    "while num_of_guesses < 3:\n",
    "    guess = int(input(\"Enter a number between 1 and 30 : \"))\n",
    "    num_of_guesses += 1\n",
    "    if guess < hidden:\n",
    "        print(\"Your number is Low\")\n",
    "    if guess > hidden:\n",
    "        print(\"Your number is High\")\n",
    "    if guess == hidden :\n",
    "        break\n",
    "if guess == hidden:\n",
    "    print(\"You guessed it in \" + str(num_of_guesses)+ \"times\")\n",
    "else:\n",
    "    print(\"The number was \" + str(hidden)+ \" number\")"
   ]
  },
  {
   "cell_type": "code",
   "execution_count": null,
   "metadata": {},
   "outputs": [
    {
     "name": "stdout",
     "output_type": "stream",
     "text": [
      "how old are you : 48\n",
      "Your Ticket is $15\n",
      "how old are you : 1\n",
      "Your ticket is free\n",
      "how old are you : 11\n",
      "your ticket is $10\n"
     ]
    }
   ],
   "source": [
    "while True:\n",
    "    age = input(\"how old are you : \")\n",
    "    age = int(age)\n",
    "    if age <= 3:\n",
    "        print(\"Your ticket is free\")\n",
    "    if age > 3 and age <= 12:\n",
    "        print(\"your ticket is $10\")\n",
    "    if age > 12: \n",
    "        print(\"Your Ticket is $15\")"
   ]
  },
  {
   "cell_type": "code",
   "execution_count": null,
   "metadata": {},
   "outputs": [],
   "source": []
  },
  {
   "cell_type": "code",
   "execution_count": null,
   "metadata": {},
   "outputs": [],
   "source": []
  },
  {
   "cell_type": "code",
   "execution_count": null,
   "metadata": {},
   "outputs": [],
   "source": []
  }
 ],
 "metadata": {
  "kernelspec": {
   "display_name": "Python 3",
   "language": "python",
   "name": "python3"
  },
  "language_info": {
   "codemirror_mode": {
    "name": "ipython",
    "version": 3
   },
   "file_extension": ".py",
   "mimetype": "text/x-python",
   "name": "python",
   "nbconvert_exporter": "python",
   "pygments_lexer": "ipython3",
   "version": "3.7.4"
  }
 },
 "nbformat": 4,
 "nbformat_minor": 2
}
