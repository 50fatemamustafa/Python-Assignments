{
 "cells": [
  {
   "cell_type": "code",
   "execution_count": 8,
   "metadata": {},
   "outputs": [
    {
     "name": "stdout",
     "output_type": "stream",
     "text": [
      "Enter First Number : 5\n",
      "Enter Second Number : 2\n",
      "Enter Operator : ^\n",
      "The answer is:  25\n"
     ]
    }
   ],
   "source": [
    "#calculator\n",
    "a = int(input(\"Enter First Number : \"))\n",
    "b = int(input(\"Enter Second Number : \"))\n",
    "op = input(\"Enter Operator : \")\n",
    "\n",
    "if op == \"*\":\n",
    "    c = a * b\n",
    "    print(\"The answer is: \" , c)\n",
    "\n",
    "elif op == \"+\":\n",
    "    c = a + b\n",
    "    print(\"The answer is: \" , c)\n",
    "\n",
    "elif op == \"-\":\n",
    "    c = a - b\n",
    "    print(\"The answer is: \" , c)\n",
    "    \n",
    "elif op == \"/\":\n",
    "    c = a // b\n",
    "    print(\"The answer is: \" , c)\n",
    "    \n",
    "elif op == \"^\":\n",
    "    c = a ** b\n",
    "    print(\"The answer is: \" , c)\n",
    "\n",
    "else:\n",
    "    print(\"Invalid operator\")"
   ]
  },
  {
   "cell_type": "code",
   "execution_count": null,
   "metadata": {},
   "outputs": [],
   "source": []
  },
  {
   "cell_type": "code",
   "execution_count": 21,
   "metadata": {},
   "outputs": [
    {
     "name": "stdout",
     "output_type": "stream",
     "text": [
      "Enter key to checkA\n",
      "The key is present and the value of the key is :  1\n"
     ]
    }
   ],
   "source": [
    "#Checking whether the key is present or not\n",
    "a = {\"A\" : 1, \"B\" : 2 , \"C\" : 3}\n",
    "key = input(\"Enter key to check : \")\n",
    "if key in a.keys():\n",
    "    print(\"The key is present and the value of the key is : \" , a[key])\n",
    "    \n",
    "else:\n",
    "    print(\"Key doesn't exist\")"
   ]
  },
  {
   "cell_type": "code",
   "execution_count": 26,
   "metadata": {},
   "outputs": [
    {
     "name": "stdout",
     "output_type": "stream",
     "text": [
      "36\n"
     ]
    }
   ],
   "source": [
    "#adding values of dictionary\n",
    "dic =  {\"A\" : 11, \"B\" : 12 , \"C\" : 13}\n",
    "print(sum(dic.values()))"
   ]
  },
  {
   "cell_type": "code",
   "execution_count": 27,
   "metadata": {},
   "outputs": [
    {
     "name": "stdout",
     "output_type": "stream",
     "text": [
      "{'A': 10, 'B': 20}\n",
      "{'A': 10, 'B': 20, 'C': 30}\n"
     ]
    }
   ],
   "source": [
    "#adding a key to a dictionary\n",
    "d = {\"A\":10, \"B\":20}\n",
    "print(d)\n",
    "d.update({\"C\": 30})\n",
    "print(d)"
   ]
  },
  {
   "cell_type": "code",
   "execution_count": 26,
   "metadata": {
    "scrolled": true
   },
   "outputs": [
    {
     "name": "stdout",
     "output_type": "stream",
     "text": [
      "[10, 30, 60]\n"
     ]
    }
   ],
   "source": [
    "# printing duplicating values\n",
    "list = [10,20,30,10,90,30,40,50 ,60 ,60]\n",
    "dupItems = []\n",
    "uniqItems = {}\n",
    "\n",
    "for x in list:\n",
    "       if x not in uniqItems:\n",
    "                uniqItems[x] = 1\n",
    "                \n",
    "       elif uniqItems[x] == 1:\n",
    "                dupItems.append(x)\n",
    "                uniqItems[x] += 1\n",
    "print(dupItems)"
   ]
  },
  {
   "cell_type": "code",
   "execution_count": 33,
   "metadata": {},
   "outputs": [
    {
     "name": "stdout",
     "output_type": "stream",
     "text": [
      "['10', '20', '30', '90', '40', '50', '60', 'number']\n",
      "The numeric values in list is :  10\n",
      "The numeric values in list is :  20\n",
      "The numeric values in list is :  30\n",
      "The numeric values in list is :  90\n",
      "The numeric values in list is :  40\n",
      "The numeric values in list is :  50\n",
      "The numeric values in list is :  60\n"
     ]
    }
   ],
   "source": [
    "list = [\"10\",\"20\",\"30\",\"90\",\"40\",\"50\" ,\"60\", \"number\" ]\n",
    "print(list)\n",
    "for i in list:\n",
    "    if i.isnumeric():\n",
    "        print(\"The numeric values in list is : \", i)"
   ]
  },
  {
   "cell_type": "code",
   "execution_count": null,
   "metadata": {},
   "outputs": [],
   "source": []
  }
 ],
 "metadata": {
  "kernelspec": {
   "display_name": "Python 3",
   "language": "python",
   "name": "python3"
  },
  "language_info": {
   "codemirror_mode": {
    "name": "ipython",
    "version": 3
   },
   "file_extension": ".py",
   "mimetype": "text/x-python",
   "name": "python",
   "nbconvert_exporter": "python",
   "pygments_lexer": "ipython3",
   "version": "3.7.4"
  }
 },
 "nbformat": 4,
 "nbformat_minor": 2
}
